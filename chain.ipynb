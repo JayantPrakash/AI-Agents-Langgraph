{
 "cells": [
  {
   "cell_type": "code",
   "execution_count": 4,
   "id": "e3d6bbbe-5bee-4c4e-ba36-7d8eab9dd5f6",
   "metadata": {},
   "outputs": [
    {
     "data": {
      "text/plain": [
       "True"
      ]
     },
     "execution_count": 4,
     "metadata": {},
     "output_type": "execute_result"
    }
   ],
   "source": [
    "from dotenv import load_dotenv\n",
    "load_dotenv(\"C:\\\\Users\\\\praka\\\\Documents\\\\ML Hands-on\\\\.env\")"
   ]
  },
  {
   "cell_type": "markdown",
   "id": "52cb0ad7-102c-4d17-8959-d36ffea68fea",
   "metadata": {},
   "source": [
    "# Chain\n"
   ]
  },
  {
   "cell_type": "markdown",
   "id": "159773bb-040f-4ca2-93dd-1f478a7dd63a",
   "metadata": {},
   "source": [
    "## Messages"
   ]
  },
  {
   "cell_type": "code",
   "execution_count": 5,
   "id": "e29d1649-b193-4270-b1c2-468763263bb4",
   "metadata": {},
   "outputs": [
    {
     "name": "stdout",
     "output_type": "stream",
     "text": [
      "==================================\u001b[1m Ai Message \u001b[0m==================================\n",
      "Name: Model\n",
      "\n",
      "So you said you were researching ocean mammals?\n",
      "================================\u001b[1m Human Message \u001b[0m=================================\n",
      "Name: Lance\n",
      "\n",
      "Yes, that's right.\n",
      "==================================\u001b[1m Ai Message \u001b[0m==================================\n",
      "Name: Model\n",
      "\n",
      "Great, what would you like to learn about.\n",
      "================================\u001b[1m Human Message \u001b[0m=================================\n",
      "Name: Lance\n",
      "\n",
      "I want to learn about the best place to see Orcas in the US.\n"
     ]
    }
   ],
   "source": [
    "from pprint import pprint\n",
    "from langchain_core.messages import AIMessage, HumanMessage\n",
    "\n",
    "messages = [AIMessage(content=f\"So you said you were researching ocean mammals?\", name=\"Model\")]\n",
    "messages.append(HumanMessage(content=f\"Yes, that's right.\",name=\"Lance\"))\n",
    "messages.append(AIMessage(content=f\"Great, what would you like to learn about.\", name=\"Model\"))\n",
    "messages.append(HumanMessage(content=f\"I want to learn about the best place to see Orcas in the US.\", name=\"Lance\"))\n",
    "\n",
    "for m in messages:\n",
    "    m.pretty_print()"
   ]
  },
  {
   "cell_type": "markdown",
   "id": "6604d0a5-7473-4ab1-9024-838c92d65867",
   "metadata": {},
   "source": [
    "## Chat Models\n"
   ]
  },
  {
   "cell_type": "code",
   "execution_count": 6,
   "id": "df26a003-8102-4a00-9d50-0e9edc4de7fd",
   "metadata": {},
   "outputs": [
    {
     "name": "stdout",
     "output_type": "stream",
     "text": [
      "content=\"Orcas, also known as killer whales, are magnificent creatures. In the US, one of the best places to see Orcas is in the Pacific Northwest, particularly in the states of Washington and Alaska.\\n\\nSome of the top spots to see Orcas in the US include:\\n\\n1. **San Juan Islands, Washington**: Located off the coast of Washington state, the San Juan Islands are known for their resident Orca population. You can take a guided tour or kayak through the islands to spot these amazing animals.\\n2. **Puget Sound, Washington**: Puget Sound is home to a large population of Orcas, and you can take a whale-watching tour from cities like Seattle or Tacoma to see them.\\n3. **Juneau, Alaska**: Juneau is a great place to see Orcas in their natural habitat, and you can take a guided tour or visit the Auke Bay area to spot them.\\n4. **Seward, Alaska**: Seward is a popular spot for whale-watching, and you can take a tour to see Orcas, as well as other marine wildlife like humpback whales and sea lions.\\n\\nSome popular tour operators that offer Orca-watching tours in these areas include:\\n\\n* San Juan Outfitters\\n* Puget Sound Express\\n* Alaska Whale Watching\\n* Juneau Whale Watch\\n\\nKeep in mind that Orcas are wild animals, and sightings can't be guaranteed. However, these areas are known for their high concentration of Orca populations, and guided tours can increase your chances of spotting them.\\n\\nAre you planning a trip to see Orcas soon?\" additional_kwargs={} response_metadata={'token_usage': {'completion_tokens': 325, 'prompt_tokens': 91, 'total_tokens': 416, 'completion_time': 0.71812494, 'prompt_time': 0.014463859, 'queue_time': 0.194862173, 'total_time': 0.732588799}, 'model_name': 'llama-3.3-70b-versatile', 'system_fingerprint': 'fp_2ddfbb0da0', 'service_tier': 'on_demand', 'finish_reason': 'stop', 'logprobs': None} id='run--61d9d10d-4775-460c-a496-5b4f1085b914-0' usage_metadata={'input_tokens': 91, 'output_tokens': 325, 'total_tokens': 416}\n"
     ]
    },
    {
     "data": {
      "text/plain": [
       "langchain_core.messages.ai.AIMessage"
      ]
     },
     "execution_count": 6,
     "metadata": {},
     "output_type": "execute_result"
    }
   ],
   "source": [
    "from langchain_groq import ChatGroq\n",
    "llm=ChatGroq(model=\"llama-3.3-70b-versatile\")\n",
    "result = llm.invoke(messages)\n",
    "print(result)\n",
    "type(result)"
   ]
  },
  {
   "cell_type": "markdown",
   "id": "c4ae0d57-7323-4cde-86ec-65a7a5633c4c",
   "metadata": {},
   "source": [
    "## Tools\n"
   ]
  },
  {
   "cell_type": "code",
   "execution_count": 7,
   "id": "d2033b8a-b927-4723-80d0-61c69e0f79c7",
   "metadata": {},
   "outputs": [],
   "source": [
    "def multiply(a: int, b: int) -> int:\n",
    "    \"\"\"Multiply a and b.\n",
    "\n",
    "    Args:\n",
    "        a: first int\n",
    "        b: second int\n",
    "    \"\"\"\n",
    "    return a * b\n",
    "\n",
    "llm_with_tools = llm.bind_tools([multiply])"
   ]
  },
  {
   "cell_type": "code",
   "execution_count": 8,
   "id": "9105cdb9-78bd-4fcd-83b3-cd117ad724c0",
   "metadata": {},
   "outputs": [
    {
     "data": {
      "text/plain": [
       "AIMessage(content='', additional_kwargs={'tool_calls': [{'id': 'tnh18pxfm', 'function': {'arguments': '{\"a\":2,\"b\":3}', 'name': 'multiply'}, 'type': 'function'}]}, response_metadata={'token_usage': {'completion_tokens': 19, 'prompt_tokens': 232, 'total_tokens': 251, 'completion_time': 0.048308826, 'prompt_time': 0.031745983, 'queue_time': 0.087809356, 'total_time': 0.080054809}, 'model_name': 'llama-3.3-70b-versatile', 'system_fingerprint': 'fp_2ddfbb0da0', 'service_tier': 'on_demand', 'finish_reason': 'tool_calls', 'logprobs': None}, id='run--eb12f1f3-2e54-4d17-bce9-88659e508d3a-0', tool_calls=[{'name': 'multiply', 'args': {'a': 2, 'b': 3}, 'id': 'tnh18pxfm', 'type': 'tool_call'}], usage_metadata={'input_tokens': 232, 'output_tokens': 19, 'total_tokens': 251})"
      ]
     },
     "execution_count": 8,
     "metadata": {},
     "output_type": "execute_result"
    }
   ],
   "source": [
    "tool_call = llm_with_tools.invoke([HumanMessage(content=f\"What is 2 multiplied by 3\", name=\"Lance\")])\n",
    "tool_call"
   ]
  },
  {
   "cell_type": "code",
   "execution_count": 19,
   "id": "8ac23063",
   "metadata": {},
   "outputs": [
    {
     "data": {
      "text/plain": [
       "AIMessage(content=\"I'm here to help. How can I assist you today?\", additional_kwargs={}, response_metadata={'token_usage': {'completion_tokens': 14, 'prompt_tokens': 225, 'total_tokens': 239, 'completion_time': 0.033623502, 'prompt_time': 0.025213756, 'queue_time': 0.194804015, 'total_time': 0.058837258}, 'model_name': 'llama-3.3-70b-versatile', 'system_fingerprint': 'fp_3f3b593e33', 'service_tier': 'on_demand', 'finish_reason': 'stop', 'logprobs': None}, id='run--4b9a26a2-8d85-43bb-b3f1-53b5660f5634-0', usage_metadata={'input_tokens': 225, 'output_tokens': 14, 'total_tokens': 239})"
      ]
     },
     "execution_count": 19,
     "metadata": {},
     "output_type": "execute_result"
    }
   ],
   "source": [
    "llm_with_tools.invoke([HumanMessage(content=f\"Hello\", name=\"Lance\")])"
   ]
  },
  {
   "cell_type": "code",
   "execution_count": 9,
   "id": "bc4144e7-0af2-4c5f-8433-5a86f58dfd26",
   "metadata": {},
   "outputs": [
    {
     "data": {
      "text/plain": [
       "[{'name': 'multiply',\n",
       "  'args': {'a': 2, 'b': 3},\n",
       "  'id': 'tnh18pxfm',\n",
       "  'type': 'tool_call'}]"
      ]
     },
     "execution_count": 9,
     "metadata": {},
     "output_type": "execute_result"
    }
   ],
   "source": [
    "tool_call.tool_calls"
   ]
  },
  {
   "cell_type": "markdown",
   "id": "661eb7d7-41d0-482f-aa2a-0f41aa8d9313",
   "metadata": {},
   "source": [
    "## Using messages as state"
   ]
  },
  {
   "cell_type": "code",
   "execution_count": 10,
   "id": "fc0eba27-2703-4bd5-abf8-02d5e3b363b2",
   "metadata": {},
   "outputs": [],
   "source": [
    "from typing_extensions import TypedDict\n",
    "from langchain_core.messages import AnyMessage\n",
    "\n",
    "class MessagesState(TypedDict):\n",
    "    messages: list[AnyMessage]"
   ]
  },
  {
   "cell_type": "markdown",
   "id": "f93d1855-1e31-4ccc-b4d2-d23115ad6a67",
   "metadata": {},
   "source": [
    "## Reducers"
   ]
  },
  {
   "cell_type": "code",
   "execution_count": 11,
   "id": "a5f2e8d2-2f66-45ba-b7e4-7ca1678eb084",
   "metadata": {},
   "outputs": [],
   "source": [
    "from typing import Annotated\n",
    "from langgraph.graph.message import add_messages\n",
    "\n",
    "class MessagesState(TypedDict):\n",
    "    messages: Annotated[list[AnyMessage], add_messages]"
   ]
  },
  {
   "cell_type": "code",
   "execution_count": 12,
   "id": "b712d669-f797-4854-8b9f-0de96f71269d",
   "metadata": {},
   "outputs": [],
   "source": [
    "from langgraph.graph import MessagesState\n",
    "\n",
    "class MessagesState(MessagesState):\n",
    "    # Add any keys needed beyond messages, which is pre-built \n",
    "    pass"
   ]
  },
  {
   "cell_type": "code",
   "execution_count": 15,
   "id": "820669c3-4e0e-45e3-9321-c8c7ee0b11ed",
   "metadata": {},
   "outputs": [
    {
     "data": {
      "text/plain": [
       "[AIMessage(content='Hello! How can I assist you?', additional_kwargs={}, response_metadata={}, name='Model', id='d61f8bc2-cf93-4354-9157-c6533d78977d'),\n",
       " HumanMessage(content=\"I'm looking for information on marine biology.\", additional_kwargs={}, response_metadata={}, name='Lance', id='37172b0b-8819-4236-83ee-2a5df635bdd0'),\n",
       " AIMessage(content='Sure, I can help with that. What specifically are you interested in?', additional_kwargs={}, response_metadata={}, name='Model', id='01b5ea4b-5a19-473c-8db0-8ed090fec064')]"
      ]
     },
     "execution_count": 15,
     "metadata": {},
     "output_type": "execute_result"
    }
   ],
   "source": [
    "# Initial state\n",
    "initial_messages = [AIMessage(content=\"Hello! How can I assist you?\", name=\"Model\"),\n",
    "                    HumanMessage(content=\"I'm looking for information on marine biology.\", name=\"Lance\")\n",
    "                   ]\n",
    "\n",
    "# New message to add\n",
    "new_message = AIMessage(content=\"Sure, I can help with that. What specifically are you interested in?\", name=\"Model\")\n",
    "\n",
    "# Test\n",
    "add_messages(initial_messages , new_message)"
   ]
  },
  {
   "cell_type": "markdown",
   "id": "384a721e-93d4-4186-9bb9-9b6e5833ae10",
   "metadata": {},
   "source": [
    "## Our graph"
   ]
  },
  {
   "cell_type": "code",
   "execution_count": 13,
   "id": "ea2b7dae-68e5-443b-8600-c2a3681899e1",
   "metadata": {},
   "outputs": [
    {
     "data": {
      "image/png": "[encoded data removed]",
      "text/plain": [
       "<IPython.core.display.Image object>"
      ]
     },
     "metadata": {},
     "output_type": "display_data"
    }
   ],
   "source": [
    "from IPython.display import Image, display\n",
    "from langgraph.graph import StateGraph, START, END\n",
    "    \n",
    "# Node\n",
    "def tool_calling_llm(state: MessagesState):\n",
    "    return {\"messages\": [llm_with_tools.invoke(state[\"messages\"])]}\n",
    "\n",
    "# Build graph\n",
    "builder = StateGraph(MessagesState)\n",
    "builder.add_node(\"tool_calling_llm\", tool_calling_llm)\n",
    "builder.add_edge(START, \"tool_calling_llm\")\n",
    "builder.add_edge(\"tool_calling_llm\", END)\n",
    "graph = builder.compile()\n",
    "\n",
    "# View\n",
    "display(Image(graph.get_graph().draw_mermaid_png()))"
   ]
  },
  {
   "cell_type": "code",
   "execution_count": 14,
   "id": "a9fea334-3118-4f5b-bb2d-52fdb1c8d081",
   "metadata": {},
   "outputs": [
    {
     "name": "stdout",
     "output_type": "stream",
     "text": [
      "{'messages': [HumanMessage(content='Hello!', additional_kwargs={}, response_metadata={}, id='36a9fc15-1d97-4d6e-b76b-9b0c33a7f2b0'), AIMessage(content=\"Hello! It's nice to meet you. Is there something I can help you with or would you like to chat?\", additional_kwargs={}, response_metadata={'token_usage': {'completion_tokens': 25, 'prompt_tokens': 226, 'total_tokens': 251, 'completion_time': 0.051415623, 'prompt_time': 0.024038776, 'queue_time': 0.194802301, 'total_time': 0.075454399}, 'model_name': 'llama-3.3-70b-versatile', 'system_fingerprint': 'fp_6507bcfb6f', 'service_tier': 'on_demand', 'finish_reason': 'stop', 'logprobs': None}, id='run--7adbc6f7-4a1c-4e8e-b964-dd1a7750aeaa-0', usage_metadata={'input_tokens': 226, 'output_tokens': 25, 'total_tokens': 251})]}\n",
      "================================\u001b[1m Human Message \u001b[0m=================================\n",
      "\n",
      "Hello!\n",
      "==================================\u001b[1m Ai Message \u001b[0m==================================\n",
      "\n",
      "Hello! It's nice to meet you. Is there something I can help you with or would you like to chat?\n"
     ]
    }
   ],
   "source": [
    "messages = graph.invoke({\"messages\": HumanMessage(content=\"Hello!\")})\n",
    "print(messages)\n",
    "for m in messages['messages']:\n",
    "    m.pretty_print()"
   ]
  },
  {
   "cell_type": "code",
   "execution_count": 20,
   "id": "55c0f07f-1df7-4dbd-92ae-f99343021ef8",
   "metadata": {},
   "outputs": [
    {
     "name": "stdout",
     "output_type": "stream",
     "text": [
      "{'messages': [HumanMessage(content='What is 2 multiplied by 3', additional_kwargs={}, response_metadata={}, name='Lance', id='391859a8-5e9d-4a2d-be1a-10288e11b2bb'), AIMessage(content='', additional_kwargs={'tool_calls': [{'id': 'call_6pZHLT439rDVMFxohq9Ri6P8', 'function': {'arguments': '{\"a\":2,\"b\":3}', 'name': 'multiply'}, 'type': 'function'}], 'refusal': None}, response_metadata={'token_usage': {'completion_tokens': 17, 'prompt_tokens': 62, 'total_tokens': 79, 'completion_tokens_details': {'accepted_prediction_tokens': 0, 'audio_tokens': 0, 'reasoning_tokens': 0, 'rejected_prediction_tokens': 0}, 'prompt_tokens_details': {'audio_tokens': 0, 'cached_tokens': 0}}, 'model_name': 'gpt-4o-2024-08-06', 'system_fingerprint': 'fp_07871e2ad8', 'id': 'chatcmpl-Bp3h8yRcl8ANl4dvj6f2lhHUJK99x', 'service_tier': 'default', 'finish_reason': 'tool_calls', 'logprobs': None}, id='run--0926560b-134a-4fea-86df-3989e503d0e5-0', tool_calls=[{'name': 'multiply', 'args': {'a': 2, 'b': 3}, 'id': 'call_6pZHLT439rDVMFxohq9Ri6P8', 'type': 'tool_call'}], usage_metadata={'input_tokens': 62, 'output_tokens': 17, 'total_tokens': 79, 'input_token_details': {'audio': 0, 'cache_read': 0}, 'output_token_details': {'audio': 0, 'reasoning': 0}})]}\n",
      "================================\u001b[1m Human Message \u001b[0m=================================\n",
      "Name: Lance\n",
      "\n",
      "What is 2 multiplied by 3\n",
      "==================================\u001b[1m Ai Message \u001b[0m==================================\n",
      "Tool Calls:\n",
      "  multiply (call_6pZHLT439rDVMFxohq9Ri6P8)\n",
      " Call ID: call_6pZHLT439rDVMFxohq9Ri6P8\n",
      "  Args:\n",
      "    a: 2\n",
      "    b: 3\n"
     ]
    }
   ],
   "source": [
    "messages = graph.invoke({\"messages\":[HumanMessage(content=f\"What is 2 multiplied by 3\", name=\"Lance\")]})\n",
    "print(messages)\n",
    "for m in messages['messages']:\n",
    "    m.pretty_print()"
   ]
  }
 ],
 "metadata": {
  "kernelspec": {
   "display_name": "Agents",
   "language": "python",
   "name": "python3"
  },
  "language_info": {
   "codemirror_mode": {
    "name": "ipython",
    "version": 3
   },
   "file_extension": ".py",
   "mimetype": "text/x-python",
   "name": "python",
   "nbconvert_exporter": "python",
   "pygments_lexer": "ipython3",
   "version": "3.12.11"
  }
 },
 "nbformat": 4,
 "nbformat_minor": 5
}
