{
 "cells": [
  {
   "cell_type": "markdown",
   "id": "0bc83038-0278-4bda-9df6-cfbc138d46a4",
   "metadata": {},
   "source": [
    "# Filtering and trimming messages"
   ]
  },
  {
   "cell_type": "markdown",
   "id": "e63c0174-ce03-4bb8-bb8a-8c1418c36f91",
   "metadata": {},
   "source": [
    "## Messages as state"
   ]
  },
  {
   "cell_type": "code",
   "execution_count": 4,
   "id": "08be68c2-f6eb-407b-906a-6632b29322d4",
   "metadata": {},
   "outputs": [
    {
     "name": "stdout",
     "output_type": "stream",
     "text": [
      "==================================\u001b[1m Ai Message \u001b[0m==================================\n",
      "Name: Bot\n",
      "\n",
      "So you said you were researching ocean mammals?\n",
      "================================\u001b[1m Human Message \u001b[0m=================================\n",
      "Name: Lance\n",
      "\n",
      "Yes, I know about whales. But what others should I learn about?\n"
     ]
    }
   ],
   "source": [
    "from pprint import pprint\n",
    "from langchain_core.messages import AIMessage, HumanMessage\n",
    "messages = [AIMessage(f\"So you said you were researching ocean mammals?\", name=\"Bot\")]\n",
    "messages.append(HumanMessage(f\"Yes, I know about whales. But what others should I learn about?\", name=\"Lance\"))\n",
    "\n",
    "for m in messages:\n",
    "    m.pretty_print()"
   ]
  },
  {
   "cell_type": "code",
   "execution_count": 5,
   "id": "d0957542-5077-4b9e-b71f-39f7ef3cfb71",
   "metadata": {},
   "outputs": [
    {
     "data": {
      "text/plain": [
       "True"
      ]
     },
     "execution_count": 5,
     "metadata": {},
     "output_type": "execute_result"
    }
   ],
   "source": [
    "from dotenv import load_dotenv\n",
    "load_dotenv(\"C:\\\\Users\\\\praka\\\\Documents\\\\ML Hands-on\\\\.env\")"
   ]
  },
  {
   "cell_type": "code",
   "execution_count": 6,
   "id": "9b9a488e-eb6d-4504-8972-637a72723ce4",
   "metadata": {},
   "outputs": [
    {
     "data": {
      "text/plain": [
       "AIMessage(content=\"Besides whales, there are many other fascinating ocean mammals. Here are a few examples:\\n\\n1. **Dolphins**: Highly intelligent and social animals, dolphins are known for their playful behavior and complex communication skills.\\n2. **Seals and Sea Lions**: These pinnipeds (fin-footed mammals) are adapted to life in the water, with flippers and streamlined bodies. They're found in oceans around the world and are popular attractions at zoos and aquariums.\\n3. **Walruses**: Large, tusky mammals that inhabit the Arctic and sub-Arctic oceans. They're known for their distinctive whiskers and ability to dive to great depths in search of food.\\n4. **Manatees**: Also known as sea cows, manatees are large, gentle herbivores that inhabit shallow, coastal waters in the Caribbean and Gulf of Mexico.\\n5. **Dugongs**: Similar to manatees, dugongs are large marine mammals that feed on seagrass and other aquatic plants. They're found in shallow waters in the Pacific and Indian Oceans.\\n6. **Otters**: While not exclusively marine mammals, some species of otters, like the sea otter, are well adapted to life in the ocean. They're known for their thick fur and ability to use tools to crack open shells.\\n7. **Porpoises**: Similar to dolphins, porpoises are small, toothed cetaceans that are found in oceans around the world.\\n\\nThese are just a few examples of the diverse range of ocean mammals. Each has unique characteristics, habits, and habitats, making them all fascinating to learn about.\\n\\nWhich of these ocean mammals would you like to learn more about?\", additional_kwargs={}, response_metadata={'token_usage': {'completion_tokens': 347, 'prompt_tokens': 64, 'total_tokens': 411, 'completion_time': 0.806657117, 'prompt_time': 0.012646396, 'queue_time': 0.194615004, 'total_time': 0.819303513}, 'model_name': 'llama-3.3-70b-versatile', 'system_fingerprint': 'fp_2ddfbb0da0', 'service_tier': 'on_demand', 'finish_reason': 'stop', 'logprobs': None}, id='run--05d5f5c6-ff42-441f-82bb-9b4c04508910-0', usage_metadata={'input_tokens': 64, 'output_tokens': 347, 'total_tokens': 411})"
      ]
     },
     "execution_count": 6,
     "metadata": {},
     "output_type": "execute_result"
    }
   ],
   "source": [
    "from langchain_groq import ChatGroq\n",
    "llm=ChatGroq(model=\"llama-3.3-70b-versatile\")\n",
    "llm.invoke(messages)"
   ]
  },
  {
   "cell_type": "code",
   "execution_count": 7,
   "id": "78051230-b91e-43b8-af02-91fb4a1b281d",
   "metadata": {},
   "outputs": [
    {
     "data": {
      "image/png": "[encoded data removed]",
      "text/plain": [
       "<IPython.core.display.Image object>"
      ]
     },
     "metadata": {},
     "output_type": "display_data"
    }
   ],
   "source": [
    "from IPython.display import Image, display\n",
    "from langgraph.graph import MessagesState\n",
    "from langgraph.graph import StateGraph, START, END\n",
    "\n",
    "# Node\n",
    "def chat_model_node(state: MessagesState):\n",
    "    return {\"messages\": llm.invoke(state[\"messages\"])}\n",
    "\n",
    "# Build graph\n",
    "builder = StateGraph(MessagesState)\n",
    "builder.add_node(\"chat_model\", chat_model_node)\n",
    "builder.add_edge(START, \"chat_model\")\n",
    "builder.add_edge(\"chat_model\", END)\n",
    "graph = builder.compile()\n",
    "\n",
    "# View\n",
    "display(Image(graph.get_graph().draw_mermaid_png()))"
   ]
  },
  {
   "cell_type": "code",
   "execution_count": 8,
   "id": "a1632b16-6b82-406f-bb75-029803dab9d1",
   "metadata": {},
   "outputs": [
    {
     "name": "stdout",
     "output_type": "stream",
     "text": [
      "==================================\u001b[1m Ai Message \u001b[0m==================================\n",
      "Name: Bot\n",
      "\n",
      "So you said you were researching ocean mammals?\n",
      "================================\u001b[1m Human Message \u001b[0m=================================\n",
      "Name: Lance\n",
      "\n",
      "Yes, I know about whales. But what others should I learn about?\n",
      "==================================\u001b[1m Ai Message \u001b[0m==================================\n",
      "\n",
      "Besides whales, there are several other fascinating ocean mammals you might want to learn about. Here are a few:\n",
      "\n",
      "1. **Dolphins**: Highly intelligent and social creatures, dolphins are closely related to whales and porpoises. They're known for their playful behavior and complex communication patterns.\n",
      "2. **Seals and Sea Lions**: These pinnipeds (fin-footed mammals) are adapted to life in the water, with flippers, streamlined bodies, and a layer of blubber to keep warm. They're found in oceans around the world, from the Arctic to the Antarctic.\n",
      "3. **Walruses**: Large, tusked mammals that inhabit the Arctic and sub-Arctic regions, walruses are skilled divers and feed on clams, snails, and other marine animals.\n",
      "4. **Manatees**: Also known as sea cows, manatees are large, gentle herbivores that inhabit shallow, tropical waters. They're found in the Caribbean, the Gulf of Mexico, and the southeastern United States.\n",
      "5. **Dugongs**: Similar to manatees, dugongs are large, slow-moving herbivores that inhabit the warm waters of the Indo-Pacific region. They're also known as sea pigs due to their distinctive snout shape.\n",
      "6. **Porpoises**: Smaller than dolphins, porpoises are toothed cetaceans that are found in oceans around the world. They're shy and elusive creatures, but are an important part of marine ecosystems.\n",
      "\n",
      "These are just a few examples of the many ocean mammals that exist. Each has unique characteristics, adaptations, and behaviors that are worth learning about.\n",
      "\n",
      "Which of these ocean mammals would you like to learn more about?\n"
     ]
    }
   ],
   "source": [
    "output = graph.invoke({'messages': messages})\n",
    "for m in output['messages']:\n",
    "    m.pretty_print()"
   ]
  },
  {
   "cell_type": "markdown",
   "id": "0a114688-c77f-4733-a47d-17c814aba7b8",
   "metadata": {},
   "source": [
    "## Reducer\n",
    "\n",
    "A practical challenge when working with messages is managing long-running conversations. \n",
    "\n",
    "Long-running conversations result in high token usage and latency if we are not careful, because we pass a growing list of messages to the model.\n",
    "\n",
    "We have a few ways to address this.\n",
    "\n",
    "First, recall the trick we saw using `RemoveMessage` and the `add_messages` reducer."
   ]
  },
  {
   "cell_type": "code",
   "execution_count": 29,
   "id": "3e5152a3-04a7-4578-aee1-0a214cc141f1",
   "metadata": {},
   "outputs": [
    {
     "data": {
      "image/png": "[encoded data removed]",
      "text/plain": [
       "<IPython.core.display.Image object>"
      ]
     },
     "metadata": {},
     "output_type": "display_data"
    }
   ],
   "source": [
    "from langchain_core.messages import RemoveMessage\n",
    "\n",
    "# Nodes\n",
    "def filter_messages(state: MessagesState):\n",
    "    # Delete all but the 2 most recent messages\n",
    "    delete_messages = [RemoveMessage(id=m.id) for m in state[\"messages\"][:-2]]\n",
    "    return {\"messages\": delete_messages}\n",
    "\n",
    "def chat_model_node(state: MessagesState):    \n",
    "    return {\"messages\": [llm.invoke(state[\"messages\"])]}\n",
    "\n",
    "# Build graph\n",
    "builder = StateGraph(MessagesState)\n",
    "builder.add_node(\"filter\", filter_messages)\n",
    "builder.add_node(\"chat_model\", chat_model_node)\n",
    "builder.add_edge(START, \"filter\")\n",
    "builder.add_edge(\"filter\", \"chat_model\")\n",
    "builder.add_edge(\"chat_model\", END)\n",
    "graph = builder.compile()\n",
    "\n",
    "# View\n",
    "display(Image(graph.get_graph().draw_mermaid_png()))"
   ]
  },
  {
   "cell_type": "code",
   "execution_count": 9,
   "id": "2e629c74-a709-4151-8ed5-36b5727f100e",
   "metadata": {},
   "outputs": [
    {
     "name": "stdout",
     "output_type": "stream",
     "text": [
      "==================================\u001b[1m Ai Message \u001b[0m==================================\n",
      "Name: Bot\n",
      "\n",
      "Hi.\n",
      "================================\u001b[1m Human Message \u001b[0m=================================\n",
      "Name: Lance\n",
      "\n",
      "Hi.\n",
      "==================================\u001b[1m Ai Message \u001b[0m==================================\n",
      "Name: Bot\n",
      "\n",
      "So you said you were researching ocean mammals?\n",
      "================================\u001b[1m Human Message \u001b[0m=================================\n",
      "Name: Lance\n",
      "\n",
      "Yes, I know about whales. But what others should I learn about?\n",
      "==================================\u001b[1m Ai Message \u001b[0m==================================\n",
      "\n",
      "There are many other fascinating ocean mammals beyond whales. Here are a few examples:\n",
      "\n",
      "1. **Dolphins**: Highly intelligent and social creatures, dolphins are known for their playful behavior and ability to communicate with each other using clicks and whistles.\n",
      "2. **Seals and Sea Lions**: These pinnipeds (fin-footed mammals) are adapted to life in the water, with flippers and a streamlined body. They're found in oceans around the world and are known for their agility and curious nature.\n",
      "3. **Walruses**: With their distinctive tusks and blubbery bodies, walruses are well adapted to life in the Arctic and sub-Arctic waters. They're skilled divers and feed on clams and other marine animals.\n",
      "4. **Manatees**: Also known as sea cows, manatees are large, gentle herbivores that inhabit shallow waters in the Caribbean and Gulf of Mexico. They're an important part of their ecosystems, helping to maintain the health of seagrass beds and other marine habitats.\n",
      "5. **Dugongs**: Similar to manatees, dugongs are large marine mammals that feed on seagrass and other vegetation. They're found in shallow waters in the Pacific and Indian Oceans, and are considered vulnerable due to habitat loss and hunting.\n",
      "6. **Otters**: While not exclusively marine, some species of otters, such as the sea otter, are well adapted to life in the ocean. They're known for their thick fur, which keeps them warm in cold water, and their clever use of tools to crack open shells and eat prey.\n",
      "\n",
      "These are just a few examples of the many amazing ocean mammals out there. Is there a particular aspect of ocean mammals you're interested in learning more about (e.g. behavior, habitat, conservation)?\n"
     ]
    }
   ],
   "source": [
    "# Message list with a preamble\n",
    "messages = [AIMessage(\"Hi.\", name=\"Bot\", id=\"1\")]\n",
    "messages.append(HumanMessage(\"Hi.\", name=\"Lance\", id=\"2\"))\n",
    "messages.append(AIMessage(\"So you said you were researching ocean mammals?\", name=\"Bot\", id=\"3\"))\n",
    "messages.append(HumanMessage(\"Yes, I know about whales. But what others should I learn about?\", name=\"Lance\", id=\"4\"))\n",
    "\n",
    "# Invoke\n",
    "output = graph.invoke({'messages': messages})\n",
    "for m in output['messages']:\n",
    "    m.pretty_print()"
   ]
  },
  {
   "cell_type": "markdown",
   "id": "faad16bf-3c1f-4760-96f8-d46c3c9ce414",
   "metadata": {},
   "source": [
    "## Filtering messages\n",
    "\n",
    "If you don't need or want to modify the graph state, you can just filter the messages you pass to the chat model.\n",
    "\n",
    "For example, just pass in a filtered list: `llm.invoke(messages[-1:])` to the model."
   ]
  },
  {
   "cell_type": "code",
   "execution_count": 10,
   "id": "8b23cfcc-9ab6-4aa3-9568-d4420341eb76",
   "metadata": {},
   "outputs": [
    {
     "data": {
      "image/png": "[encoded data removed]",
      "text/plain": [
       "<IPython.core.display.Image object>"
      ]
     },
     "metadata": {},
     "output_type": "display_data"
    }
   ],
   "source": [
    "# Node\n",
    "def chat_model_node(state: MessagesState):\n",
    "    return {\"messages\": [llm.invoke(state[\"messages\"][-1:])]}\n",
    "\n",
    "# Build graph\n",
    "builder = StateGraph(MessagesState)\n",
    "builder.add_node(\"chat_model\", chat_model_node)\n",
    "builder.add_edge(START, \"chat_model\")\n",
    "builder.add_edge(\"chat_model\", END)\n",
    "graph = builder.compile()\n",
    "\n",
    "# View\n",
    "display(Image(graph.get_graph().draw_mermaid_png()))"
   ]
  },
  {
   "cell_type": "code",
   "execution_count": 11,
   "id": "a40f7401-6a81-431d-8481-35c3b4ce4254",
   "metadata": {},
   "outputs": [],
   "source": [
    "messages.append(output['messages'][-1])\n",
    "messages.append(HumanMessage(f\"Tell me more about Narwhals!\", name=\"Lance\"))"
   ]
  },
  {
   "cell_type": "code",
   "execution_count": 12,
   "id": "9201463e-2d5a-48e8-b80c-e3181244a0fb",
   "metadata": {},
   "outputs": [
    {
     "name": "stdout",
     "output_type": "stream",
     "text": [
      "==================================\u001b[1m Ai Message \u001b[0m==================================\n",
      "Name: Bot\n",
      "\n",
      "Hi.\n",
      "================================\u001b[1m Human Message \u001b[0m=================================\n",
      "Name: Lance\n",
      "\n",
      "Hi.\n",
      "==================================\u001b[1m Ai Message \u001b[0m==================================\n",
      "Name: Bot\n",
      "\n",
      "So you said you were researching ocean mammals?\n",
      "================================\u001b[1m Human Message \u001b[0m=================================\n",
      "Name: Lance\n",
      "\n",
      "Yes, I know about whales. But what others should I learn about?\n",
      "==================================\u001b[1m Ai Message \u001b[0m==================================\n",
      "\n",
      "There are many other fascinating ocean mammals beyond whales. Here are a few examples:\n",
      "\n",
      "1. **Dolphins**: Highly intelligent and social creatures, dolphins are known for their playful behavior and ability to communicate with each other using clicks and whistles.\n",
      "2. **Seals and Sea Lions**: These pinnipeds (fin-footed mammals) are adapted to life in the water, with flippers and a streamlined body. They're found in oceans around the world and are known for their agility and curious nature.\n",
      "3. **Walruses**: With their distinctive tusks and blubbery bodies, walruses are well adapted to life in the Arctic and sub-Arctic waters. They're skilled divers and feed on clams and other marine animals.\n",
      "4. **Manatees**: Also known as sea cows, manatees are large, gentle herbivores that inhabit shallow waters in the Caribbean and Gulf of Mexico. They're an important part of their ecosystems, helping to maintain the health of seagrass beds and other marine habitats.\n",
      "5. **Dugongs**: Similar to manatees, dugongs are large marine mammals that feed on seagrass and other vegetation. They're found in shallow waters in the Pacific and Indian Oceans, and are considered vulnerable due to habitat loss and hunting.\n",
      "6. **Otters**: While not exclusively marine, some species of otters, such as the sea otter, are well adapted to life in the ocean. They're known for their thick fur, which keeps them warm in cold water, and their clever use of tools to crack open shells and eat prey.\n",
      "\n",
      "These are just a few examples of the many amazing ocean mammals out there. Is there a particular aspect of ocean mammals you're interested in learning more about (e.g. behavior, habitat, conservation)?\n",
      "================================\u001b[1m Human Message \u001b[0m=================================\n",
      "Name: Lance\n",
      "\n",
      "Tell me more about Narwhals!\n"
     ]
    }
   ],
   "source": [
    "for m in messages:\n",
    "    m.pretty_print()"
   ]
  },
  {
   "cell_type": "code",
   "execution_count": 13,
   "id": "66875585-e80f-4004-bd0a-1a63cf5e4a90",
   "metadata": {},
   "outputs": [
    {
     "name": "stdout",
     "output_type": "stream",
     "text": [
      "==================================\u001b[1m Ai Message \u001b[0m==================================\n",
      "Name: Bot\n",
      "\n",
      "Hi.\n",
      "================================\u001b[1m Human Message \u001b[0m=================================\n",
      "Name: Lance\n",
      "\n",
      "Hi.\n",
      "==================================\u001b[1m Ai Message \u001b[0m==================================\n",
      "Name: Bot\n",
      "\n",
      "So you said you were researching ocean mammals?\n",
      "================================\u001b[1m Human Message \u001b[0m=================================\n",
      "Name: Lance\n",
      "\n",
      "Yes, I know about whales. But what others should I learn about?\n",
      "==================================\u001b[1m Ai Message \u001b[0m==================================\n",
      "\n",
      "There are many other fascinating ocean mammals beyond whales. Here are a few examples:\n",
      "\n",
      "1. **Dolphins**: Highly intelligent and social creatures, dolphins are known for their playful behavior and ability to communicate with each other using clicks and whistles.\n",
      "2. **Seals and Sea Lions**: These pinnipeds (fin-footed mammals) are adapted to life in the water, with flippers and a streamlined body. They're found in oceans around the world and are known for their agility and curious nature.\n",
      "3. **Walruses**: With their distinctive tusks and blubbery bodies, walruses are well adapted to life in the Arctic and sub-Arctic waters. They're skilled divers and feed on clams and other marine animals.\n",
      "4. **Manatees**: Also known as sea cows, manatees are large, gentle herbivores that inhabit shallow waters in the Caribbean and Gulf of Mexico. They're an important part of their ecosystems, helping to maintain the health of seagrass beds and other marine habitats.\n",
      "5. **Dugongs**: Similar to manatees, dugongs are large marine mammals that feed on seagrass and other vegetation. They're found in shallow waters in the Pacific and Indian Oceans, and are considered vulnerable due to habitat loss and hunting.\n",
      "6. **Otters**: While not exclusively marine, some species of otters, such as the sea otter, are well adapted to life in the ocean. They're known for their thick fur, which keeps them warm in cold water, and their clever use of tools to crack open shells and eat prey.\n",
      "\n",
      "These are just a few examples of the many amazing ocean mammals out there. Is there a particular aspect of ocean mammals you're interested in learning more about (e.g. behavior, habitat, conservation)?\n",
      "================================\u001b[1m Human Message \u001b[0m=================================\n",
      "Name: Lance\n",
      "\n",
      "Tell me more about Narwhals!\n",
      "==================================\u001b[1m Ai Message \u001b[0m==================================\n",
      "\n",
      "Narwhals! They're often referred to as the \"unicorns of the sea\" due to their unique and mysterious nature. Here are some fascinating facts about narwhals:\n",
      "\n",
      "1. **The Tusk**: Narwhals are known for their distinctive tusk, which is actually a modified tooth that protrudes from their upper jaw. The tusk can grow up to 10 feet (3 meters) long and is usually found on male narwhals, although some females may also have a smaller tusk.\n",
      "2. **Purpose of the Tusk**: The purpose of the tusk is still debated among scientists. Some theories suggest it's used for:\n",
      "\t* Sensing the environment (e.g., detecting changes in water temperature or salinity)\n",
      "\t* Attracting mates or establishing social hierarchy\n",
      "\t* Breaking ice or defending against predators\n",
      "\t* Sensing the presence of prey\n",
      "3. **Habitat and Distribution**: Narwhals are found in the Arctic waters of Canada, Greenland, and Russia. They prefer icy, cold waters and are often found in areas with heavy sea ice.\n",
      "4. **Diet**: Narwhals are carnivores and feed on:\n",
      "\t* Arctic cod\n",
      "\t* Shrimp\n",
      "\t* Crustaceans\n",
      "\t* Other marine animals\n",
      "5. **Social Structure**: Narwhals are social creatures and are often found in small groups, called \"pods.\" These pods typically consist of 10-100 individuals and are usually led by a mature male.\n",
      "6. **Mating and Reproduction**: Narwhals mate in the spring, and females give birth to a single calf after a gestation period of about 14 months. The calf will stay with its mother for several years, learning essential skills and behaviors.\n",
      "7. **Conservation Status**: Narwhals are listed as \"Vulnerable\" on the IUCN Red List, primarily due to:\n",
      "\t* Climate change (reducing sea ice coverage and altering their habitat)\n",
      "\t* Hunting (for their tusks, meat, and blubber)\n",
      "\t* Entanglement in fishing nets and other human activities\n",
      "8. **Unique Characteristics**: Narwhals have a few distinct features, including:\n",
      "\t* A bluish-gray color with white patches\n",
      "\t* A rounded head and a small, beaked mouth\n",
      "\t* A dorsal fin located near the tail\n",
      "\t* A layer of blubber to keep warm in cold waters\n",
      "9. **Intelligence**: Narwhals are considered one of the most intelligent whale species. They have been observed using complex vocalizations and have been known to exhibit playful behavior.\n",
      "10. **Research and Study**: Due to their remote and icy habitat, narwhals are challenging to study. However, scientists continue to learn more about these fascinating creatures through satellite tracking, acoustic monitoring, and other research methods.\n",
      "\n",
      "Narwhals are indeed \"unicorns of the sea,\" with their mysterious and elusive nature captivating the imagination of people around the world.\n"
     ]
    }
   ],
   "source": [
    "# Invoke, using message filtering\n",
    "output = graph.invoke({'messages': messages})\n",
    "for m in output['messages']:\n",
    "    m.pretty_print()"
   ]
  },
  {
   "cell_type": "markdown",
   "id": "abead23d-c9b5-41b2-aa3f-a28376d1dd90",
   "metadata": {},
   "source": [
    "## Trim messages\n",
    "\n",
    "Another approach is to [trim messages](https://python.langchain.com/v0.2/docs/how_to/trim_messages/#getting-the-last-max_tokens-tokens), based upon a set number of tokens. \n",
    "\n",
    "This restricts the message history to a specified number of tokens.\n",
    "\n",
    "While filtering only returns a post-hoc subset of the messages between agents, trimming restricts the number of tokens that a chat model can use to respond.\n",
    "\n",
    "See the `trim_messages` below."
   ]
  },
  {
   "cell_type": "code",
   "execution_count": 14,
   "id": "e2622fb5-94d7-4c4b-a563-44fe02c8ad03",
   "metadata": {},
   "outputs": [
    {
     "data": {
      "image/png": "[encoded data removed]",
      "text/plain": [
       "<IPython.core.display.Image object>"
      ]
     },
     "metadata": {},
     "output_type": "display_data"
    }
   ],
   "source": [
    "from langchain_core.messages import trim_messages\n",
    "\n",
    "# Node\n",
    "def chat_model_node(state: MessagesState):\n",
    "    messages = trim_messages(\n",
    "            state[\"messages\"],\n",
    "            max_tokens=100,\n",
    "            strategy=\"last\",\n",
    "            token_counter=ChatGroq(model=\"llama-3.3-70b-versatile\"),\n",
    "            allow_partial=False,\n",
    "        )\n",
    "    return {\"messages\": [llm.invoke(messages)]}\n",
    "\n",
    "# Build graph\n",
    "builder = StateGraph(MessagesState)\n",
    "builder.add_node(\"chat_model\", chat_model_node)\n",
    "builder.add_edge(START, \"chat_model\")\n",
    "builder.add_edge(\"chat_model\", END)\n",
    "graph = builder.compile()\n",
    "\n",
    "# View\n",
    "display(Image(graph.get_graph().draw_mermaid_png()))"
   ]
  },
  {
   "cell_type": "code",
   "execution_count": 15,
   "id": "10005d86-6402-438c-bef5-a9c009496228",
   "metadata": {},
   "outputs": [
    {
     "name": "stdout",
     "output_type": "stream",
     "text": [
      "==================================\u001b[1m Ai Message \u001b[0m==================================\n",
      "Name: Bot\n",
      "\n",
      "Hi.\n",
      "================================\u001b[1m Human Message \u001b[0m=================================\n",
      "Name: Lance\n",
      "\n",
      "Hi.\n",
      "==================================\u001b[1m Ai Message \u001b[0m==================================\n",
      "Name: Bot\n",
      "\n",
      "So you said you were researching ocean mammals?\n",
      "================================\u001b[1m Human Message \u001b[0m=================================\n",
      "Name: Lance\n",
      "\n",
      "Yes, I know about whales. But what others should I learn about?\n",
      "==================================\u001b[1m Ai Message \u001b[0m==================================\n",
      "\n",
      "There are many other fascinating ocean mammals beyond whales. Here are a few examples:\n",
      "\n",
      "1. **Dolphins**: Highly intelligent and social creatures, dolphins are known for their playful behavior and ability to communicate with each other using clicks and whistles.\n",
      "2. **Seals and Sea Lions**: These pinnipeds (fin-footed mammals) are adapted to life in the water, with flippers and a streamlined body. They're found in oceans around the world and are known for their agility and curious nature.\n",
      "3. **Walruses**: With their distinctive tusks and blubbery bodies, walruses are well adapted to life in the Arctic and sub-Arctic waters. They're skilled divers and feed on clams and other marine animals.\n",
      "4. **Manatees**: Also known as sea cows, manatees are large, gentle herbivores that inhabit shallow waters in the Caribbean and Gulf of Mexico. They're an important part of their ecosystems, helping to maintain the health of seagrass beds and other marine habitats.\n",
      "5. **Dugongs**: Similar to manatees, dugongs are large marine mammals that feed on seagrass and other vegetation. They're found in shallow waters in the Pacific and Indian Oceans, and are considered vulnerable due to habitat loss and hunting.\n",
      "6. **Otters**: While not exclusively marine, some species of otters, such as the sea otter, are well adapted to life in the ocean. They're known for their thick fur, which keeps them warm in cold water, and their clever use of tools to crack open shells and eat prey.\n",
      "\n",
      "These are just a few examples of the many amazing ocean mammals out there. Is there a particular aspect of ocean mammals you're interested in learning more about (e.g. behavior, habitat, conservation)?\n",
      "================================\u001b[1m Human Message \u001b[0m=================================\n",
      "Name: Lance\n",
      "\n",
      "Tell me more about Narwhals!\n",
      "==================================\u001b[1m Ai Message \u001b[0m==================================\n",
      "\n",
      "Narwhals! They're often referred to as the \"unicorns of the sea\" due to their unique and mysterious nature. Here are some fascinating facts about narwhals:\n",
      "\n",
      "1. **The Tusk**: Narwhals are known for their distinctive tusk, which is actually a modified tooth that protrudes from their upper jaw. The tusk can grow up to 10 feet (3 meters) long and is usually found on male narwhals, although some females may also have a smaller tusk.\n",
      "2. **Purpose of the Tusk**: The purpose of the tusk is still debated among scientists. Some theories suggest it's used for:\n",
      "\t* Sensing the environment (e.g., detecting changes in water temperature or salinity)\n",
      "\t* Attracting mates or establishing social hierarchy\n",
      "\t* Breaking ice or defending against predators\n",
      "\t* Sensing the presence of prey\n",
      "3. **Habitat and Distribution**: Narwhals are found in the Arctic waters of Canada, Greenland, and Russia. They prefer icy, cold waters and are often found in areas with heavy sea ice.\n",
      "4. **Diet**: Narwhals are carnivores and feed on:\n",
      "\t* Arctic cod\n",
      "\t* Shrimp\n",
      "\t* Crustaceans\n",
      "\t* Other marine animals\n",
      "5. **Social Structure**: Narwhals are social creatures and are often found in small groups, called \"pods.\" These pods typically consist of 10-100 individuals and are usually led by a mature male.\n",
      "6. **Mating and Reproduction**: Narwhals mate in the spring, and females give birth to a single calf after a gestation period of about 14 months. The calf will stay with its mother for several years, learning essential skills and behaviors.\n",
      "7. **Conservation Status**: Narwhals are listed as \"Vulnerable\" on the IUCN Red List, primarily due to:\n",
      "\t* Climate change (reducing sea ice coverage and altering their habitat)\n",
      "\t* Hunting (for their tusks, meat, and blubber)\n",
      "\t* Entanglement in fishing nets and other human activities\n",
      "8. **Unique Characteristics**: Narwhals have a few distinct features, including:\n",
      "\t* A bluish-gray color with white patches\n",
      "\t* A rounded head and a small, beaked mouth\n",
      "\t* A dorsal fin located near the tail\n",
      "\t* A layer of blubber to keep warm in cold waters\n",
      "9. **Intelligence**: Narwhals are considered one of the most intelligent whale species. They have been observed using complex vocalizations and have been known to exhibit playful behavior.\n",
      "10. **Research and Study**: Due to their remote and icy habitat, narwhals are challenging to study. However, scientists continue to learn more about these fascinating creatures through satellite tracking, acoustic monitoring, and other research methods.\n",
      "\n",
      "Narwhals are indeed \"unicorns of the sea,\" with their mysterious and elusive nature captivating the imagination of people around the world.\n",
      "================================\u001b[1m Human Message \u001b[0m=================================\n",
      "Name: Lance\n",
      "\n",
      "Tell me where Orcas live!\n"
     ]
    }
   ],
   "source": [
    "messages.append(output['messages'][-1])\n",
    "messages.append(HumanMessage(f\"Tell me where Orcas live!\", name=\"Lance\"))\n",
    "for m in messages:\n",
    "    m.pretty_print()"
   ]
  },
  {
   "cell_type": "code",
   "execution_count": 16,
   "id": "a5aaf3e5-9790-4439-8372-c7ee2ed77e26",
   "metadata": {},
   "outputs": [
    {
     "ename": "ImportError",
     "evalue": "Could not import transformers python package. This is needed in order to calculate get_token_ids. Please install it with `pip install transformers`.",
     "output_type": "error",
     "traceback": [
      "\u001b[31m---------------------------------------------------------------------------\u001b[39m",
      "\u001b[31mModuleNotFoundError\u001b[39m                       Traceback (most recent call last)",
      "\u001b[36mFile \u001b[39m\u001b[32mc:\\Users\\praka\\Documents\\ML Hands-on\\Github\\Agents\\.venv\\Lib\\site-packages\\langchain_core\\language_models\\base.py:64\u001b[39m, in \u001b[36mget_tokenizer\u001b[39m\u001b[34m()\u001b[39m\n\u001b[32m     63\u001b[39m \u001b[38;5;28;01mtry\u001b[39;00m:\n\u001b[32m---> \u001b[39m\u001b[32m64\u001b[39m     \u001b[38;5;28;01mfrom\u001b[39;00m\u001b[38;5;250m \u001b[39m\u001b[34;01mtransformers\u001b[39;00m\u001b[38;5;250m \u001b[39m\u001b[38;5;28;01mimport\u001b[39;00m GPT2TokenizerFast  \u001b[38;5;66;03m# type: ignore[import-not-found]\u001b[39;00m\n\u001b[32m     65\u001b[39m \u001b[38;5;28;01mexcept\u001b[39;00m \u001b[38;5;167;01mImportError\u001b[39;00m \u001b[38;5;28;01mas\u001b[39;00m e:\n",
      "\u001b[31mModuleNotFoundError\u001b[39m: No module named 'transformers'",
      "\nThe above exception was the direct cause of the following exception:\n",
      "\u001b[31mImportError\u001b[39m                               Traceback (most recent call last)",
      "\u001b[36mCell\u001b[39m\u001b[36m \u001b[39m\u001b[32mIn[16]\u001b[39m\u001b[32m, line 2\u001b[39m\n\u001b[32m      1\u001b[39m \u001b[38;5;66;03m# Example of trimming messages\u001b[39;00m\n\u001b[32m----> \u001b[39m\u001b[32m2\u001b[39m \u001b[43mtrim_messages\u001b[49m\u001b[43m(\u001b[49m\n\u001b[32m      3\u001b[39m \u001b[43m            \u001b[49m\u001b[43mmessages\u001b[49m\u001b[43m,\u001b[49m\n\u001b[32m      4\u001b[39m \u001b[43m            \u001b[49m\u001b[43mmax_tokens\u001b[49m\u001b[43m=\u001b[49m\u001b[32;43m100\u001b[39;49m\u001b[43m,\u001b[49m\n\u001b[32m      5\u001b[39m \u001b[43m            \u001b[49m\u001b[43mstrategy\u001b[49m\u001b[43m=\u001b[49m\u001b[33;43m\"\u001b[39;49m\u001b[33;43mlast\u001b[39;49m\u001b[33;43m\"\u001b[39;49m\u001b[43m,\u001b[49m\n\u001b[32m      6\u001b[39m \u001b[43m            \u001b[49m\u001b[43mtoken_counter\u001b[49m\u001b[43m=\u001b[49m\u001b[43mChatGroq\u001b[49m\u001b[43m(\u001b[49m\u001b[43mmodel\u001b[49m\u001b[43m=\u001b[49m\u001b[33;43m\"\u001b[39;49m\u001b[33;43mllama-3.3-70b-versatile\u001b[39;49m\u001b[33;43m\"\u001b[39;49m\u001b[43m)\u001b[49m\u001b[43m,\u001b[49m\n\u001b[32m      7\u001b[39m \u001b[43m            \u001b[49m\u001b[43mallow_partial\u001b[49m\u001b[43m=\u001b[49m\u001b[38;5;28;43;01mFalse\u001b[39;49;00m\n\u001b[32m      8\u001b[39m \u001b[43m        \u001b[49m\u001b[43m)\u001b[49m\n",
      "\u001b[36mFile \u001b[39m\u001b[32mc:\\Users\\praka\\Documents\\ML Hands-on\\Github\\Agents\\.venv\\Lib\\site-packages\\langchain_core\\messages\\utils.py:392\u001b[39m, in \u001b[36m_runnable_support.<locals>.wrapped\u001b[39m\u001b[34m(messages, **kwargs)\u001b[39m\n\u001b[32m    389\u001b[39m \u001b[38;5;28;01mfrom\u001b[39;00m\u001b[38;5;250m \u001b[39m\u001b[34;01mlangchain_core\u001b[39;00m\u001b[34;01m.\u001b[39;00m\u001b[34;01mrunnables\u001b[39;00m\u001b[34;01m.\u001b[39;00m\u001b[34;01mbase\u001b[39;00m\u001b[38;5;250m \u001b[39m\u001b[38;5;28;01mimport\u001b[39;00m RunnableLambda\n\u001b[32m    391\u001b[39m \u001b[38;5;28;01mif\u001b[39;00m messages \u001b[38;5;129;01mis\u001b[39;00m \u001b[38;5;129;01mnot\u001b[39;00m \u001b[38;5;28;01mNone\u001b[39;00m:\n\u001b[32m--> \u001b[39m\u001b[32m392\u001b[39m     \u001b[38;5;28;01mreturn\u001b[39;00m \u001b[43mfunc\u001b[49m\u001b[43m(\u001b[49m\u001b[43mmessages\u001b[49m\u001b[43m,\u001b[49m\u001b[43m \u001b[49m\u001b[43m*\u001b[49m\u001b[43m*\u001b[49m\u001b[43mkwargs\u001b[49m\u001b[43m)\u001b[49m\n\u001b[32m    393\u001b[39m \u001b[38;5;28;01mreturn\u001b[39;00m RunnableLambda(partial(func, **kwargs), name=func.\u001b[34m__name__\u001b[39m)\n",
      "\u001b[36mFile \u001b[39m\u001b[32mc:\\Users\\praka\\Documents\\ML Hands-on\\Github\\Agents\\.venv\\Lib\\site-packages\\langchain_core\\messages\\utils.py:929\u001b[39m, in \u001b[36mtrim_messages\u001b[39m\u001b[34m(messages, max_tokens, token_counter, strategy, allow_partial, end_on, start_on, include_system, text_splitter)\u001b[39m\n\u001b[32m    920\u001b[39m     \u001b[38;5;28;01mreturn\u001b[39;00m _first_max_tokens(\n\u001b[32m    921\u001b[39m         messages,\n\u001b[32m    922\u001b[39m         max_tokens=max_tokens,\n\u001b[32m   (...)\u001b[39m\u001b[32m    926\u001b[39m         end_on=end_on,\n\u001b[32m    927\u001b[39m     )\n\u001b[32m    928\u001b[39m \u001b[38;5;28;01mif\u001b[39;00m strategy == \u001b[33m\"\u001b[39m\u001b[33mlast\u001b[39m\u001b[33m\"\u001b[39m:\n\u001b[32m--> \u001b[39m\u001b[32m929\u001b[39m     \u001b[38;5;28;01mreturn\u001b[39;00m \u001b[43m_last_max_tokens\u001b[49m\u001b[43m(\u001b[49m\n\u001b[32m    930\u001b[39m \u001b[43m        \u001b[49m\u001b[43mmessages\u001b[49m\u001b[43m,\u001b[49m\n\u001b[32m    931\u001b[39m \u001b[43m        \u001b[49m\u001b[43mmax_tokens\u001b[49m\u001b[43m=\u001b[49m\u001b[43mmax_tokens\u001b[49m\u001b[43m,\u001b[49m\n\u001b[32m    932\u001b[39m \u001b[43m        \u001b[49m\u001b[43mtoken_counter\u001b[49m\u001b[43m=\u001b[49m\u001b[43mlist_token_counter\u001b[49m\u001b[43m,\u001b[49m\n\u001b[32m    933\u001b[39m \u001b[43m        \u001b[49m\u001b[43mallow_partial\u001b[49m\u001b[43m=\u001b[49m\u001b[43mallow_partial\u001b[49m\u001b[43m,\u001b[49m\n\u001b[32m    934\u001b[39m \u001b[43m        \u001b[49m\u001b[43minclude_system\u001b[49m\u001b[43m=\u001b[49m\u001b[43minclude_system\u001b[49m\u001b[43m,\u001b[49m\n\u001b[32m    935\u001b[39m \u001b[43m        \u001b[49m\u001b[43mstart_on\u001b[49m\u001b[43m=\u001b[49m\u001b[43mstart_on\u001b[49m\u001b[43m,\u001b[49m\n\u001b[32m    936\u001b[39m \u001b[43m        \u001b[49m\u001b[43mend_on\u001b[49m\u001b[43m=\u001b[49m\u001b[43mend_on\u001b[49m\u001b[43m,\u001b[49m\n\u001b[32m    937\u001b[39m \u001b[43m        \u001b[49m\u001b[43mtext_splitter\u001b[49m\u001b[43m=\u001b[49m\u001b[43mtext_splitter_fn\u001b[49m\u001b[43m,\u001b[49m\n\u001b[32m    938\u001b[39m \u001b[43m    \u001b[49m\u001b[43m)\u001b[49m\n\u001b[32m    939\u001b[39m msg = \u001b[33mf\u001b[39m\u001b[33m\"\u001b[39m\u001b[33mUnrecognized \u001b[39m\u001b[38;5;132;01m{\u001b[39;00mstrategy\u001b[38;5;132;01m=}\u001b[39;00m\u001b[33m. Supported strategies are \u001b[39m\u001b[33m'\u001b[39m\u001b[33mlast\u001b[39m\u001b[33m'\u001b[39m\u001b[33m and \u001b[39m\u001b[33m'\u001b[39m\u001b[33mfirst\u001b[39m\u001b[33m'\u001b[39m\u001b[33m.\u001b[39m\u001b[33m\"\u001b[39m\n\u001b[32m    940\u001b[39m \u001b[38;5;28;01mraise\u001b[39;00m \u001b[38;5;167;01mValueError\u001b[39;00m(msg)\n",
      "\u001b[36mFile \u001b[39m\u001b[32mc:\\Users\\praka\\Documents\\ML Hands-on\\Github\\Agents\\.venv\\Lib\\site-packages\\langchain_core\\messages\\utils.py:1454\u001b[39m, in \u001b[36m_last_max_tokens\u001b[39m\u001b[34m(messages, max_tokens, token_counter, text_splitter, allow_partial, include_system, start_on, end_on)\u001b[39m\n\u001b[32m   1451\u001b[39m     system_tokens = token_counter([system_message])\n\u001b[32m   1452\u001b[39m     remaining_tokens = \u001b[38;5;28mmax\u001b[39m(\u001b[32m0\u001b[39m, max_tokens - system_tokens)\n\u001b[32m-> \u001b[39m\u001b[32m1454\u001b[39m reversed_result = \u001b[43m_first_max_tokens\u001b[49m\u001b[43m(\u001b[49m\n\u001b[32m   1455\u001b[39m \u001b[43m    \u001b[49m\u001b[43mreversed_messages\u001b[49m\u001b[43m,\u001b[49m\n\u001b[32m   1456\u001b[39m \u001b[43m    \u001b[49m\u001b[43mmax_tokens\u001b[49m\u001b[43m=\u001b[49m\u001b[43mremaining_tokens\u001b[49m\u001b[43m,\u001b[49m\n\u001b[32m   1457\u001b[39m \u001b[43m    \u001b[49m\u001b[43mtoken_counter\u001b[49m\u001b[43m=\u001b[49m\u001b[43mtoken_counter\u001b[49m\u001b[43m,\u001b[49m\n\u001b[32m   1458\u001b[39m \u001b[43m    \u001b[49m\u001b[43mtext_splitter\u001b[49m\u001b[43m=\u001b[49m\u001b[43mtext_splitter\u001b[49m\u001b[43m,\u001b[49m\n\u001b[32m   1459\u001b[39m \u001b[43m    \u001b[49m\u001b[43mpartial_strategy\u001b[49m\u001b[43m=\u001b[49m\u001b[33;43m\"\u001b[39;49m\u001b[33;43mlast\u001b[39;49m\u001b[33;43m\"\u001b[39;49m\u001b[43m \u001b[49m\u001b[38;5;28;43;01mif\u001b[39;49;00m\u001b[43m \u001b[49m\u001b[43mallow_partial\u001b[49m\u001b[43m \u001b[49m\u001b[38;5;28;43;01melse\u001b[39;49;00m\u001b[43m \u001b[49m\u001b[38;5;28;43;01mNone\u001b[39;49;00m\u001b[43m,\u001b[49m\n\u001b[32m   1460\u001b[39m \u001b[43m    \u001b[49m\u001b[43mend_on\u001b[49m\u001b[43m=\u001b[49m\u001b[43mstart_on\u001b[49m\u001b[43m,\u001b[49m\n\u001b[32m   1461\u001b[39m \u001b[43m\u001b[49m\u001b[43m)\u001b[49m\n\u001b[32m   1463\u001b[39m \u001b[38;5;66;03m# Re-reverse the messages and add back the system message if needed\u001b[39;00m\n\u001b[32m   1464\u001b[39m result = reversed_result[::-\u001b[32m1\u001b[39m]\n",
      "\u001b[36mFile \u001b[39m\u001b[32mc:\\Users\\praka\\Documents\\ML Hands-on\\Github\\Agents\\.venv\\Lib\\site-packages\\langchain_core\\messages\\utils.py:1310\u001b[39m, in \u001b[36m_first_max_tokens\u001b[39m\u001b[34m(messages, max_tokens, token_counter, text_splitter, partial_strategy, end_on)\u001b[39m\n\u001b[32m   1307\u001b[39m     \u001b[38;5;28;01mreturn\u001b[39;00m messages\n\u001b[32m   1309\u001b[39m \u001b[38;5;66;03m# Check if all messages already fit within token limit\u001b[39;00m\n\u001b[32m-> \u001b[39m\u001b[32m1310\u001b[39m \u001b[38;5;28;01mif\u001b[39;00m \u001b[43mtoken_counter\u001b[49m\u001b[43m(\u001b[49m\u001b[43mmessages\u001b[49m\u001b[43m)\u001b[49m <= max_tokens:\n\u001b[32m   1311\u001b[39m     \u001b[38;5;66;03m# When all messages fit, only apply end_on filtering if needed\u001b[39;00m\n\u001b[32m   1312\u001b[39m     \u001b[38;5;28;01mif\u001b[39;00m end_on:\n\u001b[32m   1313\u001b[39m         \u001b[38;5;28;01mfor\u001b[39;00m _ \u001b[38;5;129;01min\u001b[39;00m \u001b[38;5;28mrange\u001b[39m(\u001b[38;5;28mlen\u001b[39m(messages)):\n",
      "\u001b[36mFile \u001b[39m\u001b[32mc:\\Users\\praka\\Documents\\ML Hands-on\\Github\\Agents\\.venv\\Lib\\site-packages\\langchain_core\\language_models\\base.py:406\u001b[39m, in \u001b[36mBaseLanguageModel.get_num_tokens_from_messages\u001b[39m\u001b[34m(self, messages, tools)\u001b[39m\n\u001b[32m    401\u001b[39m \u001b[38;5;28;01mif\u001b[39;00m tools \u001b[38;5;129;01mis\u001b[39;00m \u001b[38;5;129;01mnot\u001b[39;00m \u001b[38;5;28;01mNone\u001b[39;00m:\n\u001b[32m    402\u001b[39m     warnings.warn(\n\u001b[32m    403\u001b[39m         \u001b[33m\"\u001b[39m\u001b[33mCounting tokens in tool schemas is not yet supported. Ignoring tools.\u001b[39m\u001b[33m\"\u001b[39m,\n\u001b[32m    404\u001b[39m         stacklevel=\u001b[32m2\u001b[39m,\n\u001b[32m    405\u001b[39m     )\n\u001b[32m--> \u001b[39m\u001b[32m406\u001b[39m \u001b[38;5;28;01mreturn\u001b[39;00m \u001b[38;5;28;43msum\u001b[39;49m\u001b[43m(\u001b[49m\u001b[38;5;28;43mself\u001b[39;49m\u001b[43m.\u001b[49m\u001b[43mget_num_tokens\u001b[49m\u001b[43m(\u001b[49m\u001b[43mget_buffer_string\u001b[49m\u001b[43m(\u001b[49m\u001b[43m[\u001b[49m\u001b[43mm\u001b[49m\u001b[43m]\u001b[49m\u001b[43m)\u001b[49m\u001b[43m)\u001b[49m\u001b[43m \u001b[49m\u001b[38;5;28;43;01mfor\u001b[39;49;00m\u001b[43m \u001b[49m\u001b[43mm\u001b[49m\u001b[43m \u001b[49m\u001b[38;5;129;43;01min\u001b[39;49;00m\u001b[43m \u001b[49m\u001b[43mmessages\u001b[49m\u001b[43m)\u001b[49m\n",
      "\u001b[36mFile \u001b[39m\u001b[32mc:\\Users\\praka\\Documents\\ML Hands-on\\Github\\Agents\\.venv\\Lib\\site-packages\\langchain_core\\language_models\\base.py:406\u001b[39m, in \u001b[36m<genexpr>\u001b[39m\u001b[34m(.0)\u001b[39m\n\u001b[32m    401\u001b[39m \u001b[38;5;28;01mif\u001b[39;00m tools \u001b[38;5;129;01mis\u001b[39;00m \u001b[38;5;129;01mnot\u001b[39;00m \u001b[38;5;28;01mNone\u001b[39;00m:\n\u001b[32m    402\u001b[39m     warnings.warn(\n\u001b[32m    403\u001b[39m         \u001b[33m\"\u001b[39m\u001b[33mCounting tokens in tool schemas is not yet supported. Ignoring tools.\u001b[39m\u001b[33m\"\u001b[39m,\n\u001b[32m    404\u001b[39m         stacklevel=\u001b[32m2\u001b[39m,\n\u001b[32m    405\u001b[39m     )\n\u001b[32m--> \u001b[39m\u001b[32m406\u001b[39m \u001b[38;5;28;01mreturn\u001b[39;00m \u001b[38;5;28msum\u001b[39m(\u001b[38;5;28;43mself\u001b[39;49m\u001b[43m.\u001b[49m\u001b[43mget_num_tokens\u001b[49m\u001b[43m(\u001b[49m\u001b[43mget_buffer_string\u001b[49m\u001b[43m(\u001b[49m\u001b[43m[\u001b[49m\u001b[43mm\u001b[49m\u001b[43m]\u001b[49m\u001b[43m)\u001b[49m\u001b[43m)\u001b[49m \u001b[38;5;28;01mfor\u001b[39;00m m \u001b[38;5;129;01min\u001b[39;00m messages)\n",
      "\u001b[36mFile \u001b[39m\u001b[32mc:\\Users\\praka\\Documents\\ML Hands-on\\Github\\Agents\\.venv\\Lib\\site-packages\\langchain_core\\language_models\\base.py:377\u001b[39m, in \u001b[36mBaseLanguageModel.get_num_tokens\u001b[39m\u001b[34m(self, text)\u001b[39m\n\u001b[32m    365\u001b[39m \u001b[38;5;28;01mdef\u001b[39;00m\u001b[38;5;250m \u001b[39m\u001b[34mget_num_tokens\u001b[39m(\u001b[38;5;28mself\u001b[39m, text: \u001b[38;5;28mstr\u001b[39m) -> \u001b[38;5;28mint\u001b[39m:\n\u001b[32m    366\u001b[39m \u001b[38;5;250m    \u001b[39m\u001b[33;03m\"\"\"Get the number of tokens present in the text.\u001b[39;00m\n\u001b[32m    367\u001b[39m \n\u001b[32m    368\u001b[39m \u001b[33;03m    Useful for checking if an input fits in a model's context window.\u001b[39;00m\n\u001b[32m   (...)\u001b[39m\u001b[32m    375\u001b[39m \n\u001b[32m    376\u001b[39m \u001b[33;03m    \"\"\"\u001b[39;00m\n\u001b[32m--> \u001b[39m\u001b[32m377\u001b[39m     \u001b[38;5;28;01mreturn\u001b[39;00m \u001b[38;5;28mlen\u001b[39m(\u001b[38;5;28;43mself\u001b[39;49m\u001b[43m.\u001b[49m\u001b[43mget_token_ids\u001b[49m\u001b[43m(\u001b[49m\u001b[43mtext\u001b[49m\u001b[43m)\u001b[49m)\n",
      "\u001b[36mFile \u001b[39m\u001b[32mc:\\Users\\praka\\Documents\\ML Hands-on\\Github\\Agents\\.venv\\Lib\\site-packages\\langchain_core\\language_models\\base.py:363\u001b[39m, in \u001b[36mBaseLanguageModel.get_token_ids\u001b[39m\u001b[34m(self, text)\u001b[39m\n\u001b[32m    361\u001b[39m \u001b[38;5;28;01mif\u001b[39;00m \u001b[38;5;28mself\u001b[39m.custom_get_token_ids \u001b[38;5;129;01mis\u001b[39;00m \u001b[38;5;129;01mnot\u001b[39;00m \u001b[38;5;28;01mNone\u001b[39;00m:\n\u001b[32m    362\u001b[39m     \u001b[38;5;28;01mreturn\u001b[39;00m \u001b[38;5;28mself\u001b[39m.custom_get_token_ids(text)\n\u001b[32m--> \u001b[39m\u001b[32m363\u001b[39m \u001b[38;5;28;01mreturn\u001b[39;00m \u001b[43m_get_token_ids_default_method\u001b[49m\u001b[43m(\u001b[49m\u001b[43mtext\u001b[49m\u001b[43m)\u001b[49m\n",
      "\u001b[36mFile \u001b[39m\u001b[32mc:\\Users\\praka\\Documents\\ML Hands-on\\Github\\Agents\\.venv\\Lib\\site-packages\\langchain_core\\language_models\\base.py:79\u001b[39m, in \u001b[36m_get_token_ids_default_method\u001b[39m\u001b[34m(text)\u001b[39m\n\u001b[32m     77\u001b[39m \u001b[38;5;250m\u001b[39m\u001b[33;03m\"\"\"Encode the text into token IDs.\"\"\"\u001b[39;00m\n\u001b[32m     78\u001b[39m \u001b[38;5;66;03m# get the cached tokenizer\u001b[39;00m\n\u001b[32m---> \u001b[39m\u001b[32m79\u001b[39m tokenizer = \u001b[43mget_tokenizer\u001b[49m\u001b[43m(\u001b[49m\u001b[43m)\u001b[49m\n\u001b[32m     81\u001b[39m \u001b[38;5;66;03m# tokenize the text using the GPT-2 tokenizer\u001b[39;00m\n\u001b[32m     82\u001b[39m \u001b[38;5;28;01mreturn\u001b[39;00m tokenizer.encode(text)\n",
      "\u001b[36mFile \u001b[39m\u001b[32mc:\\Users\\praka\\Documents\\ML Hands-on\\Github\\Agents\\.venv\\Lib\\site-packages\\langchain_core\\language_models\\base.py:71\u001b[39m, in \u001b[36mget_tokenizer\u001b[39m\u001b[34m()\u001b[39m\n\u001b[32m     65\u001b[39m \u001b[38;5;28;01mexcept\u001b[39;00m \u001b[38;5;167;01mImportError\u001b[39;00m \u001b[38;5;28;01mas\u001b[39;00m e:\n\u001b[32m     66\u001b[39m     msg = (\n\u001b[32m     67\u001b[39m         \u001b[33m\"\u001b[39m\u001b[33mCould not import transformers python package. \u001b[39m\u001b[33m\"\u001b[39m\n\u001b[32m     68\u001b[39m         \u001b[33m\"\u001b[39m\u001b[33mThis is needed in order to calculate get_token_ids. \u001b[39m\u001b[33m\"\u001b[39m\n\u001b[32m     69\u001b[39m         \u001b[33m\"\u001b[39m\u001b[33mPlease install it with `pip install transformers`.\u001b[39m\u001b[33m\"\u001b[39m\n\u001b[32m     70\u001b[39m     )\n\u001b[32m---> \u001b[39m\u001b[32m71\u001b[39m     \u001b[38;5;28;01mraise\u001b[39;00m \u001b[38;5;167;01mImportError\u001b[39;00m(msg) \u001b[38;5;28;01mfrom\u001b[39;00m\u001b[38;5;250m \u001b[39m\u001b[34;01me\u001b[39;00m\n\u001b[32m     72\u001b[39m \u001b[38;5;66;03m# create a GPT-2 tokenizer instance\u001b[39;00m\n\u001b[32m     73\u001b[39m \u001b[38;5;28;01mreturn\u001b[39;00m GPT2TokenizerFast.from_pretrained(\u001b[33m\"\u001b[39m\u001b[33mgpt2\u001b[39m\u001b[33m\"\u001b[39m)\n",
      "\u001b[31mImportError\u001b[39m: Could not import transformers python package. This is needed in order to calculate get_token_ids. Please install it with `pip install transformers`."
     ]
    }
   ],
   "source": [
    "# Example of trimming messages\n",
    "trim_messages(\n",
    "            messages,\n",
    "            max_tokens=100,\n",
    "            strategy=\"last\",\n",
    "            token_counter=ChatGroq(model=\"llama-3.3-70b-versatile\"),\n",
    "            allow_partial=False\n",
    "        )"
   ]
  },
  {
   "cell_type": "code",
   "execution_count": null,
   "id": "60dc648a-247a-458d-843c-ba27b23e2ce0",
   "metadata": {},
   "outputs": [],
   "source": [
    "# Invoke, using message trimming in the chat_model_node \n",
    "messages_out_trim = graph.invoke({'messages': messages})"
   ]
  },
  {
   "cell_type": "code",
   "execution_count": null,
   "id": "8049f7a5-ef17-4648-890f-ebf422e4c0af",
   "metadata": {},
   "outputs": [
    {
     "name": "stdout",
     "output_type": "stream",
     "text": [
      "==================================\u001b[1m Ai Message \u001b[0m==================================\n",
      "Name: Bot\n",
      "\n",
      "Hi.\n",
      "================================\u001b[1m Human Message \u001b[0m=================================\n",
      "Name: Lance\n",
      "\n",
      "Hi.\n",
      "==================================\u001b[1m Ai Message \u001b[0m==================================\n",
      "Name: Bot\n",
      "\n",
      "So you said you were researching ocean mammals?\n",
      "================================\u001b[1m Human Message \u001b[0m=================================\n",
      "Name: Lance\n",
      "\n",
      "Yes, I know about whales. But what others should I learn about?\n",
      "==================================\u001b[1m Ai Message \u001b[0m==================================\n",
      "\n",
      "In addition to whales, there are several fascinating ocean mammals worth learning about. Here are a few:\n",
      "\n",
      "1. **Dolphins**: Highly intelligent and social creatures, dolphins are known for their playful behavior and complex communication skills. They are found in oceans all around the world.\n",
      "\n",
      "2. **Porpoises**: Similar to dolphins but generally smaller, porpoises are also highly intelligent and social. They are found in coastal waters and tend to be more reclusive compared to dolphins.\n",
      "\n",
      "3. **Seals and Sea Lions**: These \"pinnipeds\" are noted for their charismatic appearances and behaviors. Seals tend to be more adapted to life in the water, while sea lions are more agile on land.\n",
      "\n",
      "4. **Walruses**: Known for their large tusks and whiskered faces, walruses are social animals usually found in the cold waters of the Arctic.\n",
      "\n",
      "5. **Manatees and Dugongs**: Often referred to as \"sea cows,\" these gentle herbivorous mammals are found in warm coastal waters, rivers, and bays.\n",
      "\n",
      "6. **Sea Otters**: Known for their important role in marine ecosystems, sea otters are found along the coasts of the northern and eastern North Pacific Ocean.\n",
      "\n",
      "7. **Polar Bears**: Although primarily land mammals, polar bears spend much of their time on sea ice and are excellent swimmers.\n",
      "\n",
      "8. **Narwhals**: Often called the \"unicorns of the sea,\" these Arctic whales are known for their long, spiral tusks protruding from their heads.\n",
      "\n",
      "Each of these ocean mammals plays a unique role in their respective ecosystems and has unique adaptations to their marine environments. They are well worth learning about if you're interested in the diversity of ocean life.\n",
      "================================\u001b[1m Human Message \u001b[0m=================================\n",
      "Name: Lance\n",
      "\n",
      "Tell me more about Narwhals!\n",
      "==================================\u001b[1m Ai Message \u001b[0m==================================\n",
      "\n",
      "Narwhals (Monodon monoceros) are fascinating marine mammals best known for the long, spiral-shaped tusk that protrudes from the upper jaw of males and some females. Often referred to as the \"unicorns of the sea,\" these unique creatures are a part of the toothed whale family and are closely related to belugas.\n",
      "\n",
      "### Physical Characteristics:\n",
      "- **Tusk:** The most distinctive feature of narwhals is their tusk, which is actually an elongated tooth that can grow up to 10 feet long. It is primarily found in males, although about 15% of females may also have a shorter tusk.\n",
      "- **Coloration:** Narwhals have mottled grayish skin, which gives them excellent camouflage in the icy waters of their Arctic habitat.\n",
      "- **Size:** They typically grow to about 13-20 feet in length, including the tusk, and can weigh up to 3,500 pounds.\n",
      "\n",
      "### Habitat and Distribution:\n",
      "- Narwhals are predominantly found in the Arctic waters around Greenland, Canada, and Russia.\n",
      "- They prefer deep ocean environments, particularly areas with dense ice cover, during winter months and are known to migrate closer to coastal regions in the summer.\n",
      "\n",
      "### Behavior and Diet:\n",
      "- **Social Structure:** Narwhals are social animals and are often found in groups called pods, typically consisting of 5 to 10 individuals, but sometimes much larger aggregations are observed.\n",
      "- **Diet:** Their diet mainly consists of fish (like Greenland halibut), squid, and shrimp. They are known for deep diving capabilities, sometimes reaching depths of up to 5,000 feet in search of food.\n",
      "- **Vocalization:** Like many whale species, narwhals communicate using sounds, which may include clicks, whistles, and knocks.\n",
      "\n",
      "### Reproduction:\n",
      "- Female narwhals give birth to a single calf after a gestation period of about 14 to 15 months. Calves are nursed for about a year and are dependent on their mothers.\n",
      "\n",
      "### Conservation Status:\n",
      "- Narwhals are listed as vulnerable due to threats from climate change, which is impacting their Arctic habitat. Other threats include potential poaching for their tusks and disturbances from increasing human activities, such as shipping and oil exploration.\n",
      "\n",
      "### Scientific Research:\n",
      "- Scientists are intrigued by narwhal tusks and study them for insights into understanding more about sensory capabilities, as the tusk contains millions of nerve endings and is believed to have sensory functions, potentially related to detecting environmental changes.\n",
      "\n",
      "Overall, narwhals remain one of the more enigmatic and less understood whale species, capturing the fascination of scientists and the public alike. Their unique biology and adaptation to extreme environments make them critical subjects for studying the impacts of a rapidly changing climate.\n",
      "================================\u001b[1m Human Message \u001b[0m=================================\n",
      "Name: Lance\n",
      "\n",
      "Tell me where Orcas live!\n",
      "================================\u001b[1m Human Message \u001b[0m=================================\n",
      "Name: Lance\n",
      "\n",
      "Tell me where Orcas live!\n",
      "================================\u001b[1m Human Message \u001b[0m=================================\n",
      "Name: Lance\n",
      "\n",
      "Tell me where Orcas live!\n",
      "==================================\u001b[1m Ai Message \u001b[0m==================================\n",
      "\n",
      "Orcas, or killer whales, are found in all of the world's oceans, from the polar regions to the equator. They are highly adaptable and occupy a wide range of marine environments, including:\n",
      "\n",
      "1. **Coastal Waters**: Orcas are often seen in coastal areas, especially where there are abundant food sources such as fish, squid, and marine mammals. This includes the coasts of North America, particularly the Pacific Northwest, Norway, southern South America, New Zealand, and Australia.\n",
      "\n",
      "2. **Open Oceans**: Orcas also inhabit open seas and are capable of long migrations. They can be found in the North Atlantic and North Pacific Oceans, as well as in the Antarctic and Arctic Oceans during certain times of the year.\n",
      "\n",
      "3. **Polar Regions**: Orcas are commonly found in polar regions, taking advantage of the rich prey availability in these cold waters. They can navigate through ice-covered oceans and are particularly prevalent in the waters around Antarctica.\n",
      "\n",
      "4. **Temperate and Tropical Waters**: While less common, orcas can be found in temperate and tropical waters. They are not as frequently observed in these regions but may pass through them during migrations.\n",
      "\n",
      "Overall, orcas are highly versatile predators and are renowned for their diverse diets and hunting strategies, which allow them to thrive in various marine environments across the globe.\n"
     ]
    }
   ],
   "source": [
    "for m in messages_out_trim['messages']:\n",
    "    m.pretty_print()"
   ]
  }
 ],
 "metadata": {
  "kernelspec": {
   "display_name": "Agents",
   "language": "python",
   "name": "python3"
  },
  "language_info": {
   "codemirror_mode": {
    "name": "ipython",
    "version": 3
   },
   "file_extension": ".py",
   "mimetype": "text/x-python",
   "name": "python",
   "nbconvert_exporter": "python",
   "pygments_lexer": "ipython3",
   "version": "3.12.11"
  }
 },
 "nbformat": 4,
 "nbformat_minor": 5
}
